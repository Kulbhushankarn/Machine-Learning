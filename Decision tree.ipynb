{
 "cells": [
  {
   "cell_type": "code",
   "execution_count": 1,
   "metadata": {},
   "outputs": [],
   "source": [
    "#Desision Trees\n",
    "import pandas as pd"
   ]
  },
  {
   "cell_type": "code",
   "execution_count": 2,
   "metadata": {},
   "outputs": [],
   "source": [
    "data = pd.read_csv(r'C:\\Users\\lenovo\\Downloads\\archive\\Social_Network_Ads.csv')"
   ]
  },
  {
   "cell_type": "code",
   "execution_count": 3,
   "metadata": {},
   "outputs": [
    {
     "data": {
      "text/html": [
       "<div>\n",
       "<style scoped>\n",
       "    .dataframe tbody tr th:only-of-type {\n",
       "        vertical-align: middle;\n",
       "    }\n",
       "\n",
       "    .dataframe tbody tr th {\n",
       "        vertical-align: top;\n",
       "    }\n",
       "\n",
       "    .dataframe thead th {\n",
       "        text-align: right;\n",
       "    }\n",
       "</style>\n",
       "<table border=\"1\" class=\"dataframe\">\n",
       "  <thead>\n",
       "    <tr style=\"text-align: right;\">\n",
       "      <th></th>\n",
       "      <th>User ID</th>\n",
       "      <th>Gender</th>\n",
       "      <th>Age</th>\n",
       "      <th>EstimatedSalary</th>\n",
       "      <th>Purchased</th>\n",
       "    </tr>\n",
       "  </thead>\n",
       "  <tbody>\n",
       "    <tr>\n",
       "      <th>0</th>\n",
       "      <td>15624510</td>\n",
       "      <td>Male</td>\n",
       "      <td>19</td>\n",
       "      <td>19000</td>\n",
       "      <td>0</td>\n",
       "    </tr>\n",
       "    <tr>\n",
       "      <th>1</th>\n",
       "      <td>15810944</td>\n",
       "      <td>Male</td>\n",
       "      <td>35</td>\n",
       "      <td>20000</td>\n",
       "      <td>0</td>\n",
       "    </tr>\n",
       "    <tr>\n",
       "      <th>2</th>\n",
       "      <td>15668575</td>\n",
       "      <td>Female</td>\n",
       "      <td>26</td>\n",
       "      <td>43000</td>\n",
       "      <td>0</td>\n",
       "    </tr>\n",
       "    <tr>\n",
       "      <th>3</th>\n",
       "      <td>15603246</td>\n",
       "      <td>Female</td>\n",
       "      <td>27</td>\n",
       "      <td>57000</td>\n",
       "      <td>0</td>\n",
       "    </tr>\n",
       "    <tr>\n",
       "      <th>4</th>\n",
       "      <td>15804002</td>\n",
       "      <td>Male</td>\n",
       "      <td>19</td>\n",
       "      <td>76000</td>\n",
       "      <td>0</td>\n",
       "    </tr>\n",
       "    <tr>\n",
       "      <th>...</th>\n",
       "      <td>...</td>\n",
       "      <td>...</td>\n",
       "      <td>...</td>\n",
       "      <td>...</td>\n",
       "      <td>...</td>\n",
       "    </tr>\n",
       "    <tr>\n",
       "      <th>395</th>\n",
       "      <td>15691863</td>\n",
       "      <td>Female</td>\n",
       "      <td>46</td>\n",
       "      <td>41000</td>\n",
       "      <td>1</td>\n",
       "    </tr>\n",
       "    <tr>\n",
       "      <th>396</th>\n",
       "      <td>15706071</td>\n",
       "      <td>Male</td>\n",
       "      <td>51</td>\n",
       "      <td>23000</td>\n",
       "      <td>1</td>\n",
       "    </tr>\n",
       "    <tr>\n",
       "      <th>397</th>\n",
       "      <td>15654296</td>\n",
       "      <td>Female</td>\n",
       "      <td>50</td>\n",
       "      <td>20000</td>\n",
       "      <td>1</td>\n",
       "    </tr>\n",
       "    <tr>\n",
       "      <th>398</th>\n",
       "      <td>15755018</td>\n",
       "      <td>Male</td>\n",
       "      <td>36</td>\n",
       "      <td>33000</td>\n",
       "      <td>0</td>\n",
       "    </tr>\n",
       "    <tr>\n",
       "      <th>399</th>\n",
       "      <td>15594041</td>\n",
       "      <td>Female</td>\n",
       "      <td>49</td>\n",
       "      <td>36000</td>\n",
       "      <td>1</td>\n",
       "    </tr>\n",
       "  </tbody>\n",
       "</table>\n",
       "<p>400 rows × 5 columns</p>\n",
       "</div>"
      ],
      "text/plain": [
       "      User ID  Gender  Age  EstimatedSalary  Purchased\n",
       "0    15624510    Male   19            19000          0\n",
       "1    15810944    Male   35            20000          0\n",
       "2    15668575  Female   26            43000          0\n",
       "3    15603246  Female   27            57000          0\n",
       "4    15804002    Male   19            76000          0\n",
       "..        ...     ...  ...              ...        ...\n",
       "395  15691863  Female   46            41000          1\n",
       "396  15706071    Male   51            23000          1\n",
       "397  15654296  Female   50            20000          1\n",
       "398  15755018    Male   36            33000          0\n",
       "399  15594041  Female   49            36000          1\n",
       "\n",
       "[400 rows x 5 columns]"
      ]
     },
     "execution_count": 3,
     "metadata": {},
     "output_type": "execute_result"
    }
   ],
   "source": [
    "data"
   ]
  },
  {
   "cell_type": "code",
   "execution_count": 4,
   "metadata": {},
   "outputs": [],
   "source": [
    "x = data.iloc[:,[2,3]].values\n",
    "y = data.iloc[:,4].values"
   ]
  },
  {
   "cell_type": "code",
   "execution_count": 5,
   "metadata": {},
   "outputs": [],
   "source": [
    "#gini - its is impuriti index -- 0 means pure\n",
    "#purchased -- output\n",
    "#person - buy or not buy - 0\n",
    "#purely -- one class\n",
    "#class - 0 and 1"
   ]
  },
  {
   "cell_type": "code",
   "execution_count": 6,
   "metadata": {},
   "outputs": [],
   "source": [
    "from sklearn.tree import DecisionTreeClassifier"
   ]
  },
  {
   "cell_type": "code",
   "execution_count": 7,
   "metadata": {},
   "outputs": [],
   "source": [
    "dtclr = DecisionTreeClassifier(criterion=\"gini\",splitter=\"random\",random_state=0)"
   ]
  },
  {
   "cell_type": "code",
   "execution_count": 8,
   "metadata": {},
   "outputs": [],
   "source": [
    "#for dividing the data\n",
    "from sklearn.model_selection import train_test_split"
   ]
  },
  {
   "cell_type": "code",
   "execution_count": 9,
   "metadata": {},
   "outputs": [],
   "source": [
    "x_train,x_test,y_train,y_test = train_test_split(x,y,test_size=0.25,random_state=0)"
   ]
  },
  {
   "cell_type": "code",
   "execution_count": 10,
   "metadata": {},
   "outputs": [],
   "source": [
    "from sklearn.preprocessing import StandardScaler"
   ]
  },
  {
   "cell_type": "code",
   "execution_count": 11,
   "metadata": {},
   "outputs": [],
   "source": [
    "sc = StandardScaler()"
   ]
  },
  {
   "cell_type": "code",
   "execution_count": 12,
   "metadata": {},
   "outputs": [],
   "source": [
    "x_train = sc.fit_transform(x_train) "
   ]
  },
  {
   "cell_type": "code",
   "execution_count": 13,
   "metadata": {},
   "outputs": [],
   "source": [
    "x_test = sc.fit_transform(x_test)"
   ]
  },
  {
   "cell_type": "code",
   "execution_count": 14,
   "metadata": {},
   "outputs": [
    {
     "data": {
      "text/plain": [
       "DecisionTreeClassifier(random_state=0, splitter='random')"
      ]
     },
     "execution_count": 14,
     "metadata": {},
     "output_type": "execute_result"
    }
   ],
   "source": [
    "dtclr.fit(x_train,y_train)"
   ]
  },
  {
   "cell_type": "code",
   "execution_count": 15,
   "metadata": {},
   "outputs": [],
   "source": [
    "y_pred = dtclr.predict(x_test)"
   ]
  },
  {
   "cell_type": "code",
   "execution_count": 16,
   "metadata": {},
   "outputs": [
    {
     "name": "stdout",
     "output_type": "stream",
     "text": [
      "[0 0 0 0 0 0 0 1 0 1 0 0 0 0 0 0 1 0 0 0 0 0 0 1 0 1 0 0 0 0 0 0 1 0 0 0 0\n",
      " 0 0 1 0 0 0 0 0 0 0 1 0 1 1 0 0 1 1 1 0 0 1 0 0 0 0 1 0 1 0 0 0 0 1 1 0 0\n",
      " 0 0 0 0 1 1 1 1 0 0 1 0 0 1 0 0 0 1 0 0 0 1 0 1 1 0]\n"
     ]
    }
   ],
   "source": [
    "print(y_pred)"
   ]
  },
  {
   "cell_type": "code",
   "execution_count": 17,
   "metadata": {},
   "outputs": [
    {
     "name": "stdout",
     "output_type": "stream",
     "text": [
      "[0 0 0 0 0 0 0 1 0 0 0 0 0 0 0 0 0 0 1 0 0 1 0 1 0 1 0 0 0 0 0 1 1 0 0 0 0\n",
      " 0 0 1 0 0 0 0 1 0 0 1 0 1 1 0 0 0 1 1 0 0 1 0 0 1 0 1 0 1 0 0 0 0 1 0 0 1\n",
      " 0 0 0 0 1 1 1 0 0 0 1 1 0 1 1 0 0 1 0 0 0 1 0 1 1 1]\n"
     ]
    }
   ],
   "source": [
    "print(y_test)"
   ]
  },
  {
   "cell_type": "code",
   "execution_count": 18,
   "metadata": {},
   "outputs": [],
   "source": [
    "from sklearn.metrics import accuracy_score, confusion_matrix"
   ]
  },
  {
   "cell_type": "code",
   "execution_count": 19,
   "metadata": {},
   "outputs": [
    {
     "name": "stdout",
     "output_type": "stream",
     "text": [
      "Accuracy score :  0.86\n"
     ]
    }
   ],
   "source": [
    "print(\"Accuracy score : \", accuracy_score(y_test,y_pred))"
   ]
  },
  {
   "cell_type": "code",
   "execution_count": 20,
   "metadata": {},
   "outputs": [],
   "source": [
    "cf = confusion_matrix(y_test, y_pred)"
   ]
  },
  {
   "cell_type": "code",
   "execution_count": 21,
   "metadata": {},
   "outputs": [
    {
     "name": "stdout",
     "output_type": "stream",
     "text": [
      "[[63  5]\n",
      " [ 9 23]]\n"
     ]
    }
   ],
   "source": [
    "print(cf)"
   ]
  },
  {
   "cell_type": "code",
   "execution_count": 22,
   "metadata": {},
   "outputs": [
    {
     "data": {
      "text/plain": [
       "(array([ 0.58164944, -0.60673761, -0.01254409, -0.60673761,  1.37390747,\n",
       "         1.47293972,  0.08648817, -0.01254409, -0.21060859, -0.21060859,\n",
       "        -0.30964085, -0.30964085,  0.38358493,  0.8787462 ,  2.06713324,\n",
       "         1.07681071,  0.68068169, -0.70576986,  0.77971394,  0.8787462 ,\n",
       "        -1.20093113,  2.1661655 , -0.01254409,  0.18552042,  0.38358493,\n",
       "        -0.30964085,  0.97777845,  0.97777845, -0.01254409, -0.90383437,\n",
       "        -1.20093113,  2.1661655 , -1.39899564,  0.38358493,  0.77971394,\n",
       "        -1.00286662,  0.08648817, -1.00286662,  0.28455268,  0.68068169,\n",
       "        -0.50770535, -1.79512465, -0.70576986,  0.38358493, -0.30964085,\n",
       "        -0.50770535,  0.18552042,  1.27487521,  0.77971394, -0.30964085,\n",
       "        -0.01254409, -0.21060859, -0.11157634, -0.01254409,  2.1661655 ,\n",
       "        -1.79512465,  1.86906873,  0.38358493, -1.20093113,  0.77971394,\n",
       "        -0.30964085, -1.6960924 , -1.00286662,  0.28455268, -0.11157634,\n",
       "        -1.10189888,  0.08648817, -1.00286662, -0.70576986, -1.29996338,\n",
       "        -0.30964085, -0.11157634, -0.30964085,  0.8787462 , -0.30964085,\n",
       "         0.97777845, -1.20093113, -1.29996338,  1.37390747,  1.27487521,\n",
       "        -0.30964085, -0.50770535, -0.80480212,  0.97777845,  0.28455268,\n",
       "         0.97777845, -0.70576986, -0.70576986,  0.48261718,  2.06713324,\n",
       "        -1.99318916, -0.21060859,  0.38358493,  0.8787462 , -1.20093113,\n",
       "         0.18552042,  0.77971394,  2.06713324,  0.77971394, -0.30964085,\n",
       "        -1.00286662,  0.18552042,  2.06713324,  1.86906873,  1.37390747,\n",
       "         0.8787462 ,  1.47293972, -0.30964085,  1.96810099,  0.68068169,\n",
       "        -1.49802789,  0.77971394,  0.38358493, -1.00286662, -0.01254409,\n",
       "        -1.20093113, -0.90383437, -0.11157634, -1.59706014,  0.97777845,\n",
       "         1.07681071, -0.01254409, -1.10189888,  0.77971394,  0.97777845,\n",
       "        -1.20093113, -0.30964085,  0.08648817, -1.39899564, -0.60673761,\n",
       "         0.77971394, -0.30964085,  1.77003648,  0.8787462 ,  0.18552042,\n",
       "        -0.60673761, -1.89415691, -1.29996338, -0.30964085, -1.00286662,\n",
       "         1.17584296,  0.18552042,  1.17584296, -0.30964085,  0.18552042,\n",
       "         0.77971394,  0.08648817, -1.79512465, -0.90383437, -0.70576986,\n",
       "         0.8787462 ,  0.18552042, -0.4086731 , -0.01254409,  0.38358493,\n",
       "         0.8787462 ,  0.08648817, -1.89415691, -0.11157634, -0.21060859,\n",
       "         0.28455268, -0.21060859,  0.97777845, -0.21060859,  1.27487521,\n",
       "        -1.10189888, -0.01254409,  0.08648817, -1.59706014, -0.50770535,\n",
       "         0.97777845,  1.96810099,  1.47293972, -0.60673761,  1.57197197,\n",
       "        -0.80480212,  1.96810099, -1.20093113,  0.68068169, -1.39899564,\n",
       "         0.18552042, -0.50770535,  0.58164944, -1.59706014, -0.50770535,\n",
       "         0.48261718, -1.39899564,  0.77971394, -0.30964085,  1.57197197,\n",
       "         0.97777845, -0.30964085, -0.11157634, -1.49802789, -0.11157634,\n",
       "        -0.70576986, -0.50770535,  0.68068169, -0.80480212, -1.89415691,\n",
       "         1.07681071,  0.08648817, -0.30964085,  0.08648817, -1.39899564,\n",
       "         0.28455268, -0.90383437,  1.57197197, -0.30964085, -0.11157634,\n",
       "        -0.90383437, -0.70576986,  0.38358493, -0.80480212,  1.37390747,\n",
       "         1.17584296,  1.77003648, -0.90383437, -0.80480212, -1.20093113,\n",
       "        -0.50770535,  0.28455268, -0.21060859,  1.67100423,  0.97777845,\n",
       "         0.28455268, -0.80480212, -0.11157634,  0.28455268,  1.96810099,\n",
       "        -0.80480212, -1.79512465, -0.11157634,  0.28455268,  1.07681071,\n",
       "        -1.00286662,  1.47293972,  0.18552042,  2.1661655 , -0.30964085,\n",
       "        -1.6960924 , -0.01254409,  0.08648817, -0.11157634, -1.20093113,\n",
       "        -0.30964085,  1.57197197, -0.80480212,  0.08648817, -0.90383437,\n",
       "        -0.50770535, -0.30964085,  0.28455268,  0.28455268,  0.08648817,\n",
       "        -1.10189888, -1.6960924 , -1.20093113, -0.70576986,  0.08648817,\n",
       "         0.28455268,  0.8787462 ,  0.28455268, -0.11157634,  2.1661655 ,\n",
       "        -1.29996338, -1.00286662, -0.01254409, -0.21060859, -1.79512465,\n",
       "         1.77003648,  0.18552042,  0.38358493, -1.79512465,  0.18552042,\n",
       "         0.8787462 , -1.99318916, -0.30964085,  1.86906873, -0.4086731 ,\n",
       "         1.07681071, -1.10189888, -1.89415691,  0.08648817, -1.20093113,\n",
       "        -1.29996338, -1.00286662,  1.67100423,  1.17584296,  1.07681071,\n",
       "         1.37390747, -0.30964085,  0.38358493, -0.4086731 , -0.11157634,\n",
       "         0.97777845, -0.90383437, -0.21060859, -1.10189888, -1.20093113]),\n",
       " array([-0.88670699,  1.46173768, -0.5677824 ,  1.89663484, -1.40858358,\n",
       "         0.99784738, -0.79972756, -0.24885782, -0.5677824 , -0.19087153,\n",
       "        -1.29261101, -0.5677824 ,  0.09905991, -0.59677555, -1.17663843,\n",
       "        -0.13288524,  1.78066227,  0.56295021,  0.35999821, -0.53878926,\n",
       "        -1.58254245,  0.93986109,  1.22979253,  1.08482681, -0.48080297,\n",
       "        -0.30684411, -0.8287207 ,  1.8676417 ,  1.25878567,  2.27354572,\n",
       "        -1.58254245, -0.79972756, -1.46656987,  2.30253886,  0.76590222,\n",
       "        -0.30684411,  0.76590222,  0.56295021,  0.07006676, -1.26361786,\n",
       "        -0.01691267,  0.35999821,  0.12805305,  0.30201192,  0.07006676,\n",
       "         2.30253886,  0.04107362,  2.21555943,  0.27301877,  0.1570462 ,\n",
       "        -0.53878926,  0.1570462 ,  0.24402563, -0.24885782,  1.11381995,\n",
       "         0.35999821,  0.12805305, -0.13288524,  0.30201192,  1.37475825,\n",
       "        -0.24885782, -0.04590581, -0.74174127,  0.50496393, -1.06066585,\n",
       "         0.59194336, -0.79972756,  1.54871711,  1.40375139,  0.50496393,\n",
       "         0.04107362,  0.01208048, -0.88670699, -1.3505973 ,  2.24455257,\n",
       "         1.98361427,  0.47597078,  0.27301877,  1.98361427, -1.3505973 ,\n",
       "        -0.27785096,  1.25878567,  1.08482681, -1.06066585,  0.30201192,\n",
       "         0.76590222, -1.49556302,  0.04107362,  1.72267598,  0.18603934,\n",
       "        -0.74174127,  1.40375139,  0.59194336, -1.14764529, -0.77073441,\n",
       "         0.24402563, -0.30684411, -0.79972756,  0.12805305,  0.6209365 ,\n",
       "        -0.30684411, -0.3648304 ,  2.12857999, -1.26361786, -0.91570013,\n",
       "         1.25878567,  2.12857999, -1.23462472,  0.91086794, -0.71274813,\n",
       "         0.35999821, -1.3505973 , -0.13288524,  0.41798449, -0.30684411,\n",
       "         0.41798449, -1.20563157,  0.04107362, -0.42281668, -1.00267957,\n",
       "        -1.20563157, -0.13288524, -1.52455616, -1.20563157,  2.07059371,\n",
       "        -1.52455616,  0.79489537, -0.30684411, -1.23462472, -1.49556302,\n",
       "         0.53395707, -0.33583725, -0.27785096, -1.03167271,  0.07006676,\n",
       "         0.8818748 , -1.40858358,  0.59194336,  0.53395707, -1.089659  ,\n",
       "        -1.43757673, -0.30684411, -0.74174127,  0.07006676,  2.09958685,\n",
       "        -1.089659  ,  0.04107362,  0.12805305,  0.1570462 ,  0.18603934,\n",
       "        -1.29261101, -0.24885782,  1.22979253,  0.30201192,  0.1570462 ,\n",
       "        -0.65476184,  0.1570462 , -1.29261101,  0.30201192, -0.27785096,\n",
       "        -0.50979612,  1.6067034 , -1.17663843,  1.63569655,  1.8676417 ,\n",
       "        -0.3648304 ,  0.04107362, -0.24885782, -1.23462472, -0.27785096,\n",
       "         0.12805305, -1.3505973 ,  0.07006676,  1.37475825,  0.01208048,\n",
       "         0.30201192,  0.73690908, -0.50979612,  0.27301877, -0.42281668,\n",
       "         0.1570462 , -1.20563157,  2.01260742, -1.49556302, -0.53878926,\n",
       "         1.83864855, -1.089659  , -1.37959044, -0.42281668,  0.99784738,\n",
       "         1.43274454, -0.48080297,  2.15757314, -0.1038921 ,  1.95462113,\n",
       "        -0.33583725, -0.8287207 , -1.37959044, -1.58254245, -1.46656987,\n",
       "         0.12805305,  1.51972397,  0.09905991,  0.04107362, -1.3505973 ,\n",
       "         0.07006676,  0.38899135, -1.26361786, -0.74174127,  0.1570462 ,\n",
       "        -0.65476184, -0.04590581, -0.45180983,  1.89663484,  1.28777882,\n",
       "        -0.97368642,  1.83864855, -0.24885782,  0.56295021, -1.5535493 ,\n",
       "        -1.11865214,  0.07006676, -1.06066585,  1.6067034 ,  1.78066227,\n",
       "         0.04107362, -0.21986468,  0.07006676, -0.19087153, -0.65476184,\n",
       "         1.3457651 , -0.59677555,  0.12805305, -0.30684411,  0.56295021,\n",
       "         0.27301877,  0.35999821, -0.3648304 , -1.03167271,  1.11381995,\n",
       "         0.07006676,  0.04107362,  1.05583366, -0.3648304 ,  0.07006676,\n",
       "        -1.3505973 ,  1.11381995, -1.52455616,  1.8676417 , -0.77073441,\n",
       "        -0.77073441, -0.91570013, -0.71274813,  0.07006676,  1.8676417 ,\n",
       "         1.95462113, -1.5535493 , -1.089659  , -0.1038921 ,  0.09905991,\n",
       "         0.27301877, -0.5677824 , -1.14764529,  0.67892279, -0.68375498,\n",
       "        -1.37959044, -0.94469328, -0.42281668, -0.45180983, -0.97368642,\n",
       "         0.99784738, -0.3648304 ,  1.11381995, -1.3505973 , -0.13288524,\n",
       "        -1.43757673,  0.47597078,  0.27301877, -1.06066585,  0.07006676,\n",
       "        -0.88670699, -1.11865214,  0.01208048,  0.27301877,  0.33100506,\n",
       "         0.30201192,  0.44697764, -0.88670699,  0.53395707,  0.53395707,\n",
       "         2.331532  , -0.13288524, -0.45180983, -0.77073441, -0.50979612,\n",
       "        -1.14764529, -0.77073441, -0.50979612, -0.45180983,  1.40375139]))"
      ]
     },
     "execution_count": 22,
     "metadata": {},
     "output_type": "execute_result"
    }
   ],
   "source": [
    "#Training \n",
    "x = x_train[:,0]\n",
    "y = x_train[:,1]\n",
    "x,y"
   ]
  },
  {
   "cell_type": "code",
   "execution_count": 23,
   "metadata": {},
   "outputs": [],
   "source": [
    "c = y_train"
   ]
  },
  {
   "cell_type": "code",
   "execution_count": 24,
   "metadata": {},
   "outputs": [],
   "source": [
    "from matplotlib import pyplot as plt"
   ]
  },
  {
   "cell_type": "code",
   "execution_count": 25,
   "metadata": {},
   "outputs": [
    {
     "data": {
      "text/plain": [
       "<matplotlib.collections.PathCollection at 0x265dc5ff610>"
      ]
     },
     "execution_count": 25,
     "metadata": {},
     "output_type": "execute_result"
    },
    {
     "data": {
      "image/png": "[encoded data removed]",
      "text/plain": [
       "<Figure size 432x288 with 1 Axes>"
      ]
     },
     "metadata": {
      "needs_background": "light"
     },
     "output_type": "display_data"
    }
   ],
   "source": [
    "plt.scatter(x,y,c=c)"
   ]
  },
  {
   "cell_type": "code",
   "execution_count": 26,
   "metadata": {},
   "outputs": [],
   "source": [
    "x = x_test[:,0]\n",
    "y = x_test[:,1]\n",
    "x,y\n",
    "c = y_test"
   ]
  },
  {
   "cell_type": "code",
   "execution_count": 27,
   "metadata": {},
   "outputs": [
    {
     "data": {
      "text/plain": [
       "<matplotlib.collections.PathCollection at 0x265de6ffd00>"
      ]
     },
     "execution_count": 27,
     "metadata": {},
     "output_type": "execute_result"
    },
    {
     "data": {
      "image/png": "[encoded data removed]",
      "text/plain": [
       "<Figure size 432x288 with 1 Axes>"
      ]
     },
     "metadata": {
      "needs_background": "light"
     },
     "output_type": "display_data"
    }
   ],
   "source": [
    "plt.scatter(x,y,c=c)"
   ]
  }
 ],
 "metadata": {
  "kernelspec": {
   "display_name": "Python 3.9.13 64-bit (windows store)",
   "language": "python",
   "name": "python3"
  },
  "language_info": {
   "codemirror_mode": {
    "name": "ipython",
    "version": 3
   },
   "file_extension": ".py",
   "mimetype": "text/x-python",
   "name": "python",
   "nbconvert_exporter": "python",
   "pygments_lexer": "ipython3",
   "version": "3.9.13"
  },
  "orig_nbformat": 4,
  "vscode": {
   "interpreter": {
    "hash": "03573f4b64923689d4251380d9281a39682538eb2277d996e0c4a1b13dbbb109"
   }
  }
 },
 "nbformat": 4,
 "nbformat_minor": 2
}

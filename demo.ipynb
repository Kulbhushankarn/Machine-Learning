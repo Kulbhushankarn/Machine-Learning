{
 "cells": [
  {
   "cell_type": "markdown",
   "metadata": {},
   "source": [
    "*Distribution Model in Machine Learning* \n",
    "\n",
    "Data types\n",
    "1. discreat data\n",
    "2. Continuos"
   ]
  },
  {
   "cell_type": "code",
   "execution_count": 12,
   "metadata": {},
   "outputs": [],
   "source": [
    "#normal distribution\n",
    "import scipy.stats\n",
    "import numpy as np\n",
    "import matplotlib.pyplot as plt"
   ]
  },
  {
   "cell_type": "code",
   "execution_count": 13,
   "metadata": {},
   "outputs": [
    {
     "ename": "AttributeError",
     "evalue": "module 'numpy' has no attribute 'randomseed'",
     "output_type": "error",
     "traceback": [
      "\u001b[1;31m---------------------------------------------------------------------------\u001b[0m",
      "\u001b[1;31mAttributeError\u001b[0m                            Traceback (most recent call last)",
      "\u001b[1;32m~\\AppData\\Local\\Temp/ipykernel_1376/2594042309.py\u001b[0m in \u001b[0;36m<module>\u001b[1;34m\u001b[0m\n\u001b[1;32m----> 1\u001b[1;33m \u001b[0mnp\u001b[0m\u001b[1;33m.\u001b[0m\u001b[0mrandomseed\u001b[0m\u001b[1;33m(\u001b[0m\u001b[1;36m1234\u001b[0m\u001b[1;33m)\u001b[0m\u001b[1;33m\u001b[0m\u001b[1;33m\u001b[0m\u001b[0m\n\u001b[0m",
      "\u001b[1;32m~\\AppData\\Local\\Packages\\PythonSoftwareFoundation.Python.3.9_qbz5n2kfra8p0\\LocalCache\\local-packages\\Python39\\site-packages\\numpy\\__init__.py\u001b[0m in \u001b[0;36m__getattr__\u001b[1;34m(attr)\u001b[0m\n\u001b[0;32m    311\u001b[0m                 \u001b[1;32mreturn\u001b[0m \u001b[0mTester\u001b[0m\u001b[1;33m\u001b[0m\u001b[1;33m\u001b[0m\u001b[0m\n\u001b[0;32m    312\u001b[0m \u001b[1;33m\u001b[0m\u001b[0m\n\u001b[1;32m--> 313\u001b[1;33m             raise AttributeError(\"module {!r} has no attribute \"\n\u001b[0m\u001b[0;32m    314\u001b[0m                                  \"{!r}\".format(__name__, attr))\n\u001b[0;32m    315\u001b[0m \u001b[1;33m\u001b[0m\u001b[0m\n",
      "\u001b[1;31mAttributeError\u001b[0m: module 'numpy' has no attribute 'randomseed'"
     ]
    }
   ],
   "source": [
    "np.randomseed(1234)"
   ]
  },
  {
   "cell_type": "code",
   "execution_count": 14,
   "metadata": {},
   "outputs": [],
   "source": [
    "sample = np.random.lognormal(mean = 1.,sigma = 0.4,size = 1000)"
   ]
  },
  {
   "cell_type": "code",
   "execution_count": 15,
   "metadata": {},
   "outputs": [
    {
     "ename": "NameError",
     "evalue": "name 'stats' is not defined",
     "output_type": "error",
     "traceback": [
      "\u001b[1;31m---------------------------------------------------------------------------\u001b[0m",
      "\u001b[1;31mNameError\u001b[0m                                 Traceback (most recent call last)",
      "\u001b[1;32m~\\AppData\\Local\\Temp/ipykernel_1376/718645402.py\u001b[0m in \u001b[0;36m<module>\u001b[1;34m\u001b[0m\n\u001b[1;32m----> 1\u001b[1;33m \u001b[0mshape\u001b[0m\u001b[1;33m,\u001b[0m\u001b[0mloc\u001b[0m\u001b[1;33m,\u001b[0m\u001b[0mscale\u001b[0m  \u001b[1;33m=\u001b[0m \u001b[0mscipy\u001b[0m\u001b[1;33m,\u001b[0m\u001b[0mstats\u001b[0m\u001b[1;33m.\u001b[0m\u001b[0mlognorm\u001b[0m\u001b[1;33m.\u001b[0m\u001b[0mfit\u001b[0m\u001b[1;33m(\u001b[0m\u001b[0msamples\u001b[0m\u001b[1;33m,\u001b[0m\u001b[0mfloc\u001b[0m\u001b[1;33m=\u001b[0m\u001b[1;36m0\u001b[0m\u001b[1;33m)\u001b[0m\u001b[1;33m\u001b[0m\u001b[1;33m\u001b[0m\u001b[0m\n\u001b[0m",
      "\u001b[1;31mNameError\u001b[0m: name 'stats' is not defined"
     ]
    }
   ],
   "source": [
    "shape,loc,scale  = scipy,stats.lognorm.fit(samples,floc=0)"
   ]
  },
  {
   "cell_type": "code",
   "execution_count": 16,
   "metadata": {},
   "outputs": [],
   "source": [
    "num_bins = 50"
   ]
  },
  {
   "cell_type": "code",
   "execution_count": 17,
   "metadata": {},
   "outputs": [
    {
     "ename": "NameError",
     "evalue": "name 'samples' is not defined",
     "output_type": "error",
     "traceback": [
      "\u001b[1;31m---------------------------------------------------------------------------\u001b[0m",
      "\u001b[1;31mNameError\u001b[0m                                 Traceback (most recent call last)",
      "\u001b[1;32m~\\AppData\\Local\\Temp/ipykernel_1376/4245893068.py\u001b[0m in \u001b[0;36m<module>\u001b[1;34m\u001b[0m\n\u001b[1;32m----> 1\u001b[1;33m \u001b[0mcounts\u001b[0m\u001b[1;33m,\u001b[0m\u001b[0medges\u001b[0m\u001b[1;33m,\u001b[0m\u001b[0mpatches\u001b[0m \u001b[1;33m=\u001b[0m \u001b[0mplt\u001b[0m\u001b[1;33m.\u001b[0m\u001b[0mhist\u001b[0m\u001b[1;33m(\u001b[0m\u001b[0msamples\u001b[0m\u001b[1;33m,\u001b[0m\u001b[0mbins\u001b[0m\u001b[1;33m=\u001b[0m\u001b[0mnum_bins\u001b[0m\u001b[1;33m,\u001b[0m \u001b[0mcolor\u001b[0m \u001b[1;33m=\u001b[0m \u001b[1;34m'r'\u001b[0m\u001b[1;33m)\u001b[0m\u001b[1;33m\u001b[0m\u001b[1;33m\u001b[0m\u001b[0m\n\u001b[0m",
      "\u001b[1;31mNameError\u001b[0m: name 'samples' is not defined"
     ]
    }
   ],
   "source": [
    "counts,edges,patches = plt.hist(samples,bins=num_bins, color = 'r')"
   ]
  },
  {
   "cell_type": "code",
   "execution_count": 18,
   "metadata": {},
   "outputs": [],
   "source": [
    "#binomial distribution \n",
    "import seaborn\n",
    "from scipy.stats import binom"
   ]
  },
  {
   "cell_type": "code",
   "execution_count": 19,
   "metadata": {},
   "outputs": [],
   "source": [
    "data = binom.rvs(n = 17, p = 0.7, loc = 0, size = 1010)"
   ]
  },
  {
   "cell_type": "code",
   "execution_count": 21,
   "metadata": {},
   "outputs": [
    {
     "name": "stderr",
     "output_type": "stream",
     "text": [
      "C:\\Users\\lenovo\\AppData\\Local\\Packages\\PythonSoftwareFoundation.Python.3.9_qbz5n2kfra8p0\\LocalCache\\local-packages\\Python39\\site-packages\\seaborn\\distributions.py:2619: FutureWarning: `distplot` is a deprecated function and will be removed in a future version. Please adapt your code to use either `displot` (a figure-level function with similar flexibility) or `histplot` (an axes-level function for histograms).\n",
      "  warnings.warn(msg, FutureWarning)\n"
     ]
    },
    {
     "data": {
      "image/png": "[encoded data removed]",
      "text/plain": [
       "<Figure size 432x288 with 1 Axes>"
      ]
     },
     "metadata": {
      "needs_background": "light"
     },
     "output_type": "display_data"
    }
   ],
   "source": [
    "ax = seaborn.distplot(data, kde=True, color = 'pink', hist_kws={\"linewidth\":22, 'alpha':0.77})"
   ]
  },
  {
   "cell_type": "code",
   "execution_count": null,
   "metadata": {},
   "outputs": [],
   "source": [
    "#poision distribution"
   ]
  },
  {
   "cell_type": "code",
   "execution_count": 22,
   "metadata": {},
   "outputs": [],
   "source": [
    "s = np.random.poisson(5,10000)"
   ]
  },
  {
   "cell_type": "code",
   "execution_count": 24,
   "metadata": {},
   "outputs": [
    {
     "data": {
      "text/plain": [
       "(array([  63.,  325.,  843., 1410., 1780., 1730., 1483., 1026.,  630.,\n",
       "         402.,  165.,   83.,   43.,    8.,    7.,    2.]),\n",
       " array([ 0.    ,  0.9375,  1.875 ,  2.8125,  3.75  ,  4.6875,  5.625 ,\n",
       "         6.5625,  7.5   ,  8.4375,  9.375 , 10.3125, 11.25  , 12.1875,\n",
       "        13.125 , 14.0625, 15.    ]),\n",
       " <BarContainer object of 16 artists>)"
      ]
     },
     "execution_count": 24,
     "metadata": {},
     "output_type": "execute_result"
    },
    {
     "data": {
      "image/png": "[encoded data removed]",
      "text/plain": [
       "<Figure size 432x288 with 1 Axes>"
      ]
     },
     "metadata": {
      "needs_background": "light"
     },
     "output_type": "display_data"
    }
   ],
   "source": [
    "plt.hist(s,16,color = 'g')"
   ]
  },
  {
   "cell_type": "code",
   "execution_count": null,
   "metadata": {},
   "outputs": [],
   "source": [
    "#Bernoulli Distribution "
   ]
  },
  {
   "cell_type": "code",
   "execution_count": 25,
   "metadata": {},
   "outputs": [],
   "source": [
    "s = np.random.binomial(10,0.5,1000)"
   ]
  },
  {
   "cell_type": "code",
   "execution_count": 26,
   "metadata": {},
   "outputs": [
    {
     "data": {
      "text/plain": [
       "array([ 2,  6,  3,  4,  3,  3,  6,  3,  3,  6,  2,  5,  5,  3,  5,  7,  6,\n",
       "        5,  8,  5,  5,  4,  6,  5,  5,  4,  5,  4,  4,  7,  6,  3,  7,  3,\n",
       "        3,  6,  5,  5,  7,  3,  6,  8,  4,  6,  2,  7,  7,  3,  6,  4,  4,\n",
       "        5,  5,  5,  7,  5,  6,  4,  4,  3,  2,  5,  4,  4,  3,  5,  4,  9,\n",
       "        4,  6,  5,  6,  5,  6,  4,  5,  8,  8,  4,  3,  5,  1,  7,  6,  4,\n",
       "        8,  5,  5,  6,  4,  5,  7,  5,  6,  5,  4,  3,  6,  5,  7,  7,  3,\n",
       "        4,  6,  5,  5,  2,  4,  4,  7,  4,  4,  6,  4,  6,  7,  5,  0,  8,\n",
       "        2,  3,  6,  5,  5,  4,  6,  7,  0,  8,  2,  6,  4,  4,  5,  6,  3,\n",
       "        2,  4,  8,  6,  6,  5,  5,  5,  7,  5,  3,  4,  9,  3,  6,  5,  4,\n",
       "        4,  5,  4,  5,  4,  7,  4,  6,  6,  2,  5,  6,  5,  7,  5,  2,  6,\n",
       "        3,  7,  5,  7,  6,  6,  5,  6,  6,  7,  3,  7,  3,  4,  2,  5,  5,\n",
       "        6,  8,  7,  4,  4,  5,  6,  7,  3,  4,  3,  8,  6,  6,  3,  6,  3,\n",
       "        4,  5,  4,  6,  3,  5,  8,  4,  5,  6,  4,  6,  2,  7,  7,  6,  4,\n",
       "        3,  4,  3,  6,  6,  3,  5,  5,  4,  4,  4,  6,  4,  5,  3,  3,  5,\n",
       "        6,  1,  6,  7,  4,  6,  3,  3,  3,  4,  5,  7,  6,  4,  4,  3,  4,\n",
       "        5,  1,  5,  5,  3,  5,  6,  6,  4,  4,  5,  3,  4,  4,  3,  7,  5,\n",
       "        2,  6,  4,  4,  7,  4,  2,  7,  7,  5,  6,  4,  7,  7,  4,  3,  5,\n",
       "        4,  8,  4,  3,  3,  6,  5,  4,  6,  7,  3,  8,  8,  5,  3,  4,  3,\n",
       "        4,  5,  6,  5,  3,  6,  2,  5,  6,  6,  7,  6,  6,  3,  4,  6,  3,\n",
       "        5,  6,  4,  5,  6,  4,  7,  6,  3,  3,  8,  7,  5,  5,  5,  7,  5,\n",
       "        5,  3,  4,  4,  5,  3,  3,  7,  5,  6,  5,  3,  6,  5,  7,  6,  5,\n",
       "        3,  8,  5,  2,  6,  4,  8,  5,  7,  6,  4,  6,  4,  6,  3,  3,  5,\n",
       "        8,  5,  4,  3,  7,  4,  7,  7,  6,  4,  3,  7,  4,  6,  6,  5,  4,\n",
       "        4,  4,  5,  7,  4,  4,  7,  7,  7,  7,  6,  5,  2,  6,  4,  5,  6,\n",
       "        5,  5,  2,  3,  4,  3,  6,  4,  6,  2,  5,  7,  5,  6,  6,  8,  2,\n",
       "        6,  4,  6,  4,  5,  6,  5,  4,  5,  6,  7,  7,  5,  4,  5,  7,  6,\n",
       "        4,  3,  4,  4,  6,  5,  7,  5,  6,  5,  6,  5,  4,  3,  6,  4,  4,\n",
       "        3,  7,  2,  3,  6,  5,  6,  4,  5,  3,  4,  5,  5,  6,  5,  6,  3,\n",
       "        6,  5,  7,  2,  6,  6,  4,  7,  7,  4,  6,  4,  7,  7,  5,  6,  4,\n",
       "        4,  4,  4,  7,  6,  5,  5,  4,  8,  6,  2,  7,  5,  5,  5,  8,  6,\n",
       "        4,  4,  4,  4,  3,  4,  6,  2,  4,  7,  5,  7,  5,  6,  6,  5,  4,\n",
       "        8,  7,  3,  6,  5,  8,  4,  6,  4,  7,  6,  4,  7,  4,  7,  7,  6,\n",
       "        6,  7,  5,  5,  4,  3,  5,  3,  8,  3,  4,  4,  4,  4,  4,  6,  7,\n",
       "        3,  5,  6,  5,  6,  7,  5,  7,  4,  5,  5,  6,  4,  6,  4,  5,  4,\n",
       "        3,  7,  5,  6,  2,  4,  5,  6,  3,  7,  3,  2,  4,  7,  3,  4,  7,\n",
       "        6,  4,  3,  7,  5,  4,  5,  6,  4,  3,  4,  3,  6,  4,  3,  5,  6,\n",
       "        5,  5,  4,  5,  4,  6,  4,  3,  4,  6,  3,  4,  2,  4,  5,  5,  4,\n",
       "        6,  5,  8,  6,  5,  2,  2,  5,  3,  8,  4,  8,  4,  5,  5,  6,  7,\n",
       "        6,  7,  5,  6,  6,  5,  7,  3,  8,  6,  8,  8,  8,  6,  5,  5,  6,\n",
       "        7,  6,  5,  5,  5,  5,  3,  2,  5,  5,  6,  6,  6,  6,  8,  4,  4,\n",
       "        6,  4,  4,  7,  6,  5,  7,  4,  4,  5,  3,  6,  5,  3,  6, 10,  2,\n",
       "        3,  7,  4,  6,  8,  7,  9,  6,  4,  3,  4,  5,  4,  6,  1,  6,  5,\n",
       "        7,  6,  5,  2, 10,  5,  4,  4,  6,  7,  3,  4,  3,  4,  5,  5,  2,\n",
       "        7,  4,  4,  8,  2,  6,  2,  4,  5,  2,  6,  7,  4,  6,  8,  5,  3,\n",
       "        7,  2,  6,  4,  3,  6,  5,  8,  4,  5,  4,  3,  5,  4,  2,  5,  3,\n",
       "        5,  5,  4,  6,  4,  2,  4,  4,  4,  4,  8,  4,  6,  4,  5,  4,  4,\n",
       "        7,  7,  6,  5,  6,  2,  4,  7,  6,  8,  4,  4,  7,  6,  6,  4,  2,\n",
       "        7,  7,  6,  7,  2,  4,  4,  6,  7,  5,  7,  5,  3,  4,  4,  8,  3,\n",
       "        6,  2,  1,  5,  6,  7,  5,  8,  5,  4,  8,  7,  6,  5,  6,  7,  5,\n",
       "        7,  5,  6,  6,  5,  4,  4,  7,  6,  6,  4,  6,  8,  5,  8,  1,  8,\n",
       "        4,  5,  3,  5,  5,  6,  6,  6,  3,  6,  7,  5,  5,  6,  7,  7,  5,\n",
       "        3,  7,  6,  6,  6,  6,  5,  6,  4,  5,  7,  2,  7,  6,  2,  6,  4,\n",
       "        5,  6,  3,  5,  2,  4,  5,  6,  3,  3,  5,  4,  7,  3,  3,  4,  6,\n",
       "        6,  5,  7,  5,  6,  7,  3,  5,  3,  4,  4,  8,  6,  4,  7,  4,  3,\n",
       "        5,  4,  6,  4,  6,  5,  6,  3,  5,  6,  7,  7,  5,  6,  3,  7,  3,\n",
       "        5,  4,  5,  6,  7,  5,  6,  8,  4,  5,  2,  5,  6,  3,  7,  4,  5,\n",
       "        5,  3,  4,  3,  6,  6,  6,  5,  4,  4,  4,  5,  4,  6,  6,  6,  4,\n",
       "        5,  5,  3,  7,  4,  5,  5,  6,  7,  3,  3,  6,  7,  5,  6,  4,  4,\n",
       "        3,  5,  6,  4,  6,  5,  5,  5,  4,  4,  7,  6,  6,  2])"
      ]
     },
     "execution_count": 26,
     "metadata": {},
     "output_type": "execute_result"
    }
   ],
   "source": [
    "s"
   ]
  },
  {
   "cell_type": "code",
   "execution_count": 27,
   "metadata": {},
   "outputs": [
    {
     "data": {
      "text/plain": [
       "(array([  2.,   6.,   0.,  48., 120.,   0., 217.,   0., 218., 213.,   0.,\n",
       "        125.,  46.,   0.,   3.,   2.]),\n",
       " array([ 0.   ,  0.625,  1.25 ,  1.875,  2.5  ,  3.125,  3.75 ,  4.375,\n",
       "         5.   ,  5.625,  6.25 ,  6.875,  7.5  ,  8.125,  8.75 ,  9.375,\n",
       "        10.   ]),\n",
       " <BarContainer object of 16 artists>)"
      ]
     },
     "execution_count": 27,
     "metadata": {},
     "output_type": "execute_result"
    },
    {
     "data": {
      "image/png": "[encoded data removed]",
      "text/plain": [
       "<Figure size 432x288 with 1 Axes>"
      ]
     },
     "metadata": {
      "needs_background": "light"
     },
     "output_type": "display_data"
    }
   ],
   "source": [
    "plt.hist(s,16,color='Brown')"
   ]
  },
  {
   "cell_type": "markdown",
   "metadata": {},
   "source": [
    "ASSINGMENT\n",
    "perform EDA on FinalData.csv \n",
    "Perform data preprocessing on FinalData.csv"
   ]
  }
 ],
 "metadata": {
  "kernelspec": {
   "display_name": "Python 3.9.13 64-bit (windows store)",
   "language": "python",
   "name": "python3"
  },
  "language_info": {
   "codemirror_mode": {
    "name": "ipython",
    "version": 3
   },
   "file_extension": ".py",
   "mimetype": "text/x-python",
   "name": "python",
   "nbconvert_exporter": "python",
   "pygments_lexer": "ipython3",
   "version": "3.9.13"
  },
  "orig_nbformat": 4,
  "vscode": {
   "interpreter": {
    "hash": "03573f4b64923689d4251380d9281a39682538eb2277d996e0c4a1b13dbbb109"
   }
  }
 },
 "nbformat": 4,
 "nbformat_minor": 2
}
